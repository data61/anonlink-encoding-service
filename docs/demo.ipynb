{
 "cells": [
  {
   "cell_type": "code",
   "execution_count": 7,
   "metadata": {},
   "outputs": [],
   "source": [
    "import requests\n",
    "\n",
    "PREFIX = 'http://127.0.0.1:8889'"
   ]
  },
  {
   "cell_type": "markdown",
   "metadata": {},
   "source": [
    "# Define a schema and the keys\n",
    "\n",
    "The schema has two roles. Firstly, it defines the format of the data, such as the type of each column, minimum and maximum lengths, and permitted values. Secondly, it contains all the hashing settings, from the hash size, through global salts, to the tokenisation settings of each field.\n",
    "\n",
    "The schema is designed to be portable between Clkhash and Anonlink. Two runs of Clkhash with the same schema and the same keys on the same data will produce the exact same hashes, even if they use different versions of Clkhash.\n",
    "\n",
    "The keys can be thought of as a secret salt. They must be shared between organisations that are hashing their data, but must not be given to the authority performing the linkage."
   ]
  },
  {
   "cell_type": "code",
   "execution_count": 13,
   "metadata": {},
   "outputs": [],
   "source": [
    "SCHEMA = {\n",
    "  'version': 1,\n",
    "  'clkConfig': {\n",
    "    'l': 1024,\n",
    "    'k': 20,\n",
    "    'hash': {\n",
    "      'type': 'doubleHash'\n",
    "    },\n",
    "    'kdf': {\n",
    "      'type': 'HKDF',\n",
    "      'hash': 'SHA256',\n",
    "      'salt': 'SCbL2zHNnmsckfzchsNkZY9XoHk96P/G5nUBrM7ybymlEFsMV6PAeDZCNp3rfNUPCtLDMOGQHG4pCQpfhiHCyA==',\n",
    "      'info': 'c2NoZW1hX2V4YW1wbGU=',\n",
    "      'keySize': 64\n",
    "    }\n",
    "  },\n",
    "  'features': [\n",
    "    {\n",
    "      'identifier': 'NAME freetext',\n",
    "      'format': {\n",
    "        'type': 'string',\n",
    "        'encoding': 'utf-8',\n",
    "        'case': 'mixed',\n",
    "        'minLength': 3\n",
    "      },\n",
    "      'hashing': {\n",
    "        'ngram': 2,\n",
    "        'weight': 0.5\n",
    "      }\n",
    "    },\n",
    "    {\n",
    "      'identifier': 'DOB YYYY/MM/DD',\n",
    "      'format': {\n",
    "        'type': 'string',\n",
    "        'encoding': 'ascii',\n",
    "        'description': 'Numbers separated by slashes, in the year, month, day order',\n",
    "        'pattern': '\\\\d\\\\d\\\\d\\\\d/\\\\d\\\\d/\\\\d\\\\d'\n",
    "      },\n",
    "      'hashing': {\n",
    "        'ngram': 1,\n",
    "        'positional': True\n",
    "      }\n",
    "    },\n",
    "    {\n",
    "      'identifier': 'GENDER M or F',\n",
    "      'format': {\n",
    "        'type': 'enum',\n",
    "        'values': ['M', 'F']\n",
    "      },\n",
    "      'hashing': {\n",
    "        'ngram': 1,\n",
    "        'weight': 2\n",
    "      }\n",
    "    }\n",
    "  ]\n",
    "}"
   ]
  },
  {
   "cell_type": "code",
   "execution_count": 14,
   "metadata": {},
   "outputs": [],
   "source": [
    "KEY1, KEY2 = 'correct', 'horse'"
   ]
  },
  {
   "cell_type": "markdown",
   "metadata": {},
   "source": [
    "# Make new project"
   ]
  },
  {
   "cell_type": "code",
   "execution_count": 23,
   "metadata": {},
   "outputs": [
    {
     "name": "stdout",
     "output_type": "stream",
     "text": [
      "Status code: 201\n"
     ]
    }
   ],
   "source": [
    "r = requests.post(\n",
    "    PREFIX + '/projects/{project_id}'.format(\n",
    "        project_id='demo-data'),\n",
    "    params=dict(\n",
    "        key1=KEY1,\n",
    "        key2=KEY2),\n",
    "    json=SCHEMA)\n",
    "\n",
    "print('Status code:', r.status_code)"
   ]
  },
  {
   "cell_type": "markdown",
   "metadata": {},
   "source": [
    "# See all projects"
   ]
  },
  {
   "cell_type": "code",
   "execution_count": 21,
   "metadata": {},
   "outputs": [
    {
     "name": "stdout",
     "output_type": "stream",
     "text": [
      "Status code: 200\n",
      "Data: {'projects': ['bar', 'demo-data']}\n"
     ]
    }
   ],
   "source": [
    "r = requests.get(\n",
    "    PREFIX + '/projects')\n",
    "\n",
    "print('Status code:', r.status_code)\n",
    "print('Data:', r.json())"
   ]
  },
  {
   "cell_type": "markdown",
   "metadata": {},
   "source": [
    "# Upload private data"
   ]
  },
  {
   "cell_type": "code",
   "execution_count": 33,
   "metadata": {},
   "outputs": [
    {
     "name": "stdout",
     "output_type": "stream",
     "text": [
      "Status code: 200\n",
      "Data: {'clk_number': 2, 'clk_start_index': 6}\n"
     ]
    }
   ],
   "source": [
    "csv_data = (\n",
    "    'NAME freetext,DOB YYYY/MM/DD,GENDER M or F\\n'\n",
    "    'Jane Doe,1968/05/19,F\\n'\n",
    "    'Peter Griffin,1998/12/20,M\\n')\n",
    "\n",
    "r = requests.post(\n",
    "    PREFIX + '/projects/{project_id}/clks/'.format(\n",
    "        project_id='demo-data'),\n",
    "    params=dict(\n",
    "        header=True),\n",
    "    data=csv_data)\n",
    "\n",
    "json = r.json()\n",
    "clk_start_index = json['clk_start_index']\n",
    "clk_number = json['clk_number']\n",
    "\n",
    "print('Status code:', r.status_code)\n",
    "print('Data:', r.json())"
   ]
  },
  {
   "cell_type": "markdown",
   "metadata": {},
   "source": [
    "# Get clks"
   ]
  },
  {
   "cell_type": "code",
   "execution_count": 41,
   "metadata": {},
   "outputs": [
    {
     "name": "stdout",
     "output_type": "stream",
     "text": [
      "Status code: 200\n",
      "Data: {'clks': [{'errMsg': None, 'hash': 'EgBsCgAQACwDiJiri8oACaApBgB2UigAYJAAADCECKjBgABKJFFNpBVGzMREZBGBmCIwAODcgqGI9hAFKAkndGAhAGClqQEEAiLue2siEJQgkUEggGBAAQgGAWAALZACtSAiABMMQlihFVU1MTHEAmlACIMGiIwCsCAoEEDQAAA=', 'index': 6, 'status': 'done'}, {'errMsg': None, 'hash': '2wRKwCio1SQDeAAEowBECdwNGkAJgChviDATAHTDRCgQECHqxiEARgl+iLQADIspmCB7gcFUgKGIwvCMBAirULh5kkDaiTlAJowckX8A0BEgk8MgkABIF2EmByhJK6AiMwCGjlGYIlCCwiQAICED4QEgBAMsIBiAMBDkGyCSQAI=', 'index': 7, 'status': 'done'}]}\n"
     ]
    }
   ],
   "source": [
    "r = requests.get(\n",
    "    PREFIX + '/projects/{project_id}/clks/{offset}/{limit}'.format(\n",
    "        project_id='demo-data',\n",
    "        offset=clk_start_index,\n",
    "        limit=clk_number))\n",
    "\n",
    "print('Status code:', r.status_code)\n",
    "print('Data:', r.json())"
   ]
  },
  {
   "cell_type": "markdown",
   "metadata": {},
   "source": [
    "# Upload lots of private data!"
   ]
  },
  {
   "cell_type": "code",
   "execution_count": 48,
   "metadata": {},
   "outputs": [
    {
     "name": "stdout",
     "output_type": "stream",
     "text": [
      "Status code: 200\n",
      "Data: {'clk_number': 100000, 'clk_start_index': 200006}\n"
     ]
    }
   ],
   "source": [
    "with open('fake-data.csv') as f:\n",
    "    csv_data = f.read()\n",
    "\n",
    "r = requests.post(\n",
    "    PREFIX + '/projects/{project_id}/clks/'.format(\n",
    "        project_id='demo-data'),\n",
    "    params=dict(\n",
    "        header=True),\n",
    "    data=csv_data)\n",
    "\n",
    "json = r.json()\n",
    "clk_start_index = json['clk_start_index']\n",
    "clk_number = json['clk_number']\n",
    "\n",
    "print('Status code:', r.status_code)\n",
    "print('Data:', r.json())"
   ]
  },
  {
   "cell_type": "markdown",
   "metadata": {},
   "source": [
    "# Check job status"
   ]
  },
  {
   "cell_type": "code",
   "execution_count": 50,
   "metadata": {},
   "outputs": [
    {
     "name": "stdout",
     "output_type": "stream",
     "text": [
      "Status code: 200\n",
      "Data: {'clks_status': [{'count': 4, 'index': 2, 'status': 'done'}, {'count': 192000, 'index': 100006, 'status': 'done'}, {'count': 8000, 'index': 292006, 'status': 'queued'}]}\n"
     ]
    }
   ],
   "source": [
    "r = requests.get(\n",
    "    PREFIX + '/projects/{project_id}/clks'.format(\n",
    "        project_id='demo-data'))\n",
    "\n",
    "print('Status code:', r.status_code)\n",
    "print('Data:', r.json())"
   ]
  },
  {
   "cell_type": "markdown",
   "metadata": {},
   "source": [
    "# Delete clks or abort jobs"
   ]
  },
  {
   "cell_type": "markdown",
   "metadata": {},
   "source": [
    "If a particular clk has already been computed, then we simply delete it from the database. Otherwise, we cancel the scheduled job and delete the private data."
   ]
  },
  {
   "cell_type": "code",
   "execution_count": 42,
   "metadata": {},
   "outputs": [
    {
     "name": "stdout",
     "output_type": "stream",
     "text": [
      "Status code: 204\n"
     ]
    }
   ],
   "source": [
    "r = requests.delete(\n",
    "    PREFIX + '/projects/{project_id}/clks/{offset}/{limit}'.format(\n",
    "        project_id='demo-data',\n",
    "        offset=clk_start_index,\n",
    "        limit=clk_number))\n",
    "\n",
    "print('Status code:', r.status_code)"
   ]
  },
  {
   "cell_type": "markdown",
   "metadata": {},
   "source": [
    "# Delete project"
   ]
  },
  {
   "cell_type": "markdown",
   "metadata": {},
   "source": [
    "This will also delete all clks associated with the project and abort all hashing jobs."
   ]
  },
  {
   "cell_type": "code",
   "execution_count": 22,
   "metadata": {},
   "outputs": [
    {
     "name": "stdout",
     "output_type": "stream",
     "text": [
      "Status code: 204\n"
     ]
    }
   ],
   "source": [
    "r = requests.delete(\n",
    "    PREFIX + '/projects/{project_id}'.format(\n",
    "        project_id='demo-data'))\n",
    "\n",
    "print('Status code:', r.status_code)"
   ]
  },
  {
   "cell_type": "code",
   "execution_count": null,
   "metadata": {},
   "outputs": [],
   "source": []
  }
 ],
 "metadata": {
  "kernelspec": {
   "display_name": "Python 3",
   "language": "python",
   "name": "python3"
  },
  "language_info": {
   "codemirror_mode": {
    "name": "ipython",
    "version": 3
   },
   "file_extension": ".py",
   "mimetype": "text/x-python",
   "name": "python",
   "nbconvert_exporter": "python",
   "pygments_lexer": "ipython3",
   "version": "3.6.4"
  }
 },
 "nbformat": 4,
 "nbformat_minor": 2
}
