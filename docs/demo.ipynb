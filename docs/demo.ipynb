{
  "cells": [
    {
      "cell_type": "code",
      "execution_count": 7,
      "metadata": {
        "pycharm": {
          "is_executing": false
        }
      },
      "outputs": [],
      "source": "import base64\nimport requests\n\nPREFIX \u003d \u0027http://127.0.0.1:8000\u0027"
    },
    {
      "cell_type": "markdown",
      "metadata": {
        "pycharm": {}
      },
      "source": [
        "# Define a schema and the keys\n",
        "\n",
        "The schema has two roles. Firstly, it defines the format of the data, such as the type of each column, minimum and maximum lengths, and permitted values. Secondly, it contains all the hashing settings, from the hash size, through global salts, to the tokenisation settings of each field.\n",
        "\n",
        "The schema is designed to be portable between Clkhash and Anonlink. Two runs of Clkhash with the same schema and the same keys on the same data will produce the exact same hashes, even if they use different versions of Clkhash.\n",
        "\n",
        "The keys can be thought of as a secret salt. They must be shared between organisations that are hashing their data, but must not be given to the authority performing the linkage."
      ]
    },
    {
      "cell_type": "code",
      "execution_count": 3,
      "metadata": {
        "pycharm": {
          "is_executing": false
        }
      },
      "outputs": [],
      "source": [
        "SCHEMA \u003d {\n",
        "  \u0027version\u0027: 1,\n",
        "  \u0027clkConfig\u0027: {\n",
        "    \u0027l\u0027: 1024,\n",
        "    \u0027k\u0027: 20,\n",
        "    \u0027hash\u0027: {\n",
        "      \u0027type\u0027: \u0027doubleHash\u0027\n",
        "    },\n",
        "    \u0027kdf\u0027: {\n",
        "      \u0027type\u0027: \u0027HKDF\u0027,\n",
        "      \u0027hash\u0027: \u0027SHA256\u0027,\n",
        "      \u0027salt\u0027: \u0027SCbL2zHNnmsckfzchsNkZY9XoHk96P/G5nUBrM7ybymlEFsMV6PAeDZCNp3rfNUPCtLDMOGQHG4pCQpfhiHCyA\u003d\u003d\u0027,\n",
        "      \u0027info\u0027: \u0027c2NoZW1hX2V4YW1wbGU\u003d\u0027,\n",
        "      \u0027keySize\u0027: 64\n",
        "    }\n",
        "  },\n",
        "  \u0027features\u0027: [\n",
        "    {\n",
        "      \u0027identifier\u0027: \u0027NAME freetext\u0027,\n",
        "      \u0027format\u0027: {\n",
        "        \u0027type\u0027: \u0027string\u0027,\n",
        "        \u0027encoding\u0027: \u0027utf-8\u0027,\n",
        "        \u0027case\u0027: \u0027mixed\u0027,\n",
        "        \u0027minLength\u0027: 3\n",
        "      },\n",
        "      \u0027hashing\u0027: {\n",
        "        \u0027ngram\u0027: 2,\n",
        "        \u0027weight\u0027: 0.5\n",
        "      }\n",
        "    },\n",
        "    {\n",
        "      \u0027identifier\u0027: \u0027DOB YYYY/MM/DD\u0027,\n",
        "      \u0027format\u0027: {\n",
        "        \u0027type\u0027: \u0027string\u0027,\n",
        "        \u0027encoding\u0027: \u0027ascii\u0027,\n",
        "        \u0027description\u0027: \u0027Numbers separated by slashes, in the year, month, day order\u0027,\n",
        "        \u0027pattern\u0027: \u0027\\\\d\\\\d\\\\d\\\\d/\\\\d\\\\d/\\\\d\\\\d\u0027\n",
        "      },\n",
        "      \u0027hashing\u0027: {\n",
        "        \u0027ngram\u0027: 1,\n",
        "        \u0027positional\u0027: True\n",
        "      }\n",
        "    },\n",
        "    {\n",
        "      \u0027identifier\u0027: \u0027GENDER M or F\u0027,\n",
        "      \u0027format\u0027: {\n",
        "        \u0027type\u0027: \u0027enum\u0027,\n",
        "        \u0027values\u0027: [\u0027M\u0027, \u0027F\u0027]\n",
        "      },\n",
        "      \u0027hashing\u0027: {\n",
        "        \u0027ngram\u0027: 1,\n",
        "        \u0027weight\u0027: 2\n",
        "      }\n",
        "    }\n",
        "  ]\n",
        "}"
      ]
    },
    {
      "cell_type": "code",
      "execution_count": 4,
      "metadata": {
        "pycharm": {
          "is_executing": false
        }
      },
      "outputs": [],
      "source": [
        "KEYS \u003d b\u0027correct\u0027, b\u0027horse\u0027"
      ]
    },
    {
      "cell_type": "markdown",
      "metadata": {
        "pycharm": {}
      },
      "source": [
        "# Make new project"
      ]
    },
    {
      "cell_type": "code",
      "execution_count": 8,
      "metadata": {
        "pycharm": {
          "is_executing": false
        }
      },
      "outputs": [
        {
          "name": "stdout",
          "text": [
            "Status code: 201\n"
          ],
          "output_type": "stream"
        }
      ],
      "source": [
        "r \u003d requests.post(\n",
        "    PREFIX + \u0027/projects/\u0027,\n",
        "    params\u003ddict(\n",
        "        project_id\u003d\u0027demo-data\u0027,\n",
        "        keys\u003db\u0027,\u0027.join(map(base64.b64encode, KEYS))),\n",
        "    json\u003dSCHEMA)\n",
        "\n",
        "print(\u0027Status code:\u0027, r.status_code)"
      ]
    },
    {
      "cell_type": "markdown",
      "metadata": {
        "pycharm": {}
      },
      "source": [
        "# See all projects"
      ]
    },
    {
      "cell_type": "code",
      "execution_count": 5,
      "metadata": {
        "pycharm": {}
      },
      "outputs": [
        {
          "name": "stdout",
          "output_type": "stream",
          "text": [
            "Status code: 200\n",
            "Data: {\u0027projects\u0027: [\u0027demo-data\u0027]}\n"
          ]
        }
      ],
      "source": [
        "r \u003d requests.get(\n",
        "    PREFIX + \u0027/projects\u0027)\n",
        "\n",
        "print(\u0027Status code:\u0027, r.status_code)\n",
        "print(\u0027Data:\u0027, r.json())"
      ]
    },
    {
      "cell_type": "markdown",
      "metadata": {
        "pycharm": {}
      },
      "source": [
        "# Upload private data"
      ]
    },
    {
      "cell_type": "code",
      "execution_count": 6,
      "metadata": {
        "pycharm": {}
      },
      "outputs": [
        {
          "name": "stdout",
          "output_type": "stream",
          "text": [
            "Status code: 202\n",
            "Data: {\u0027dataIds\u0027: {\u0027rangeEnd\u0027: 2, \u0027rangeStart\u0027: 0}}\n"
          ]
        }
      ],
      "source": [
        "csv_data \u003d (\n",
        "    \u0027NAME freetext,DOB YYYY/MM/DD,GENDER M or F\\n\u0027\n",
        "    \u0027Jane Doe,1968/05/19,F\\n\u0027\n",
        "    \u0027Peter Griffin,1998/12/20,M\\n\u0027)\n",
        "\n",
        "r \u003d requests.post(\n",
        "    PREFIX + \u0027/projects/{project_id}/pii/\u0027.format(\n",
        "        project_id\u003d\u0027demo-data\u0027),\n",
        "    params\u003ddict(\n",
        "        header\u003d\u0027true\u0027,\n",
        "        validate\u003dTrue),\n",
        "    data\u003dcsv_data)\n",
        "\n",
        "json \u003d r.json()\n",
        "clk_range_start \u003d json[\u0027dataIds\u0027][\u0027rangeStart\u0027]\n",
        "clk_range_end \u003d json[\u0027dataIds\u0027][\u0027rangeEnd\u0027]\n",
        "\n",
        "print(\u0027Status code:\u0027, r.status_code)\n",
        "print(\u0027Data:\u0027, r.json())"
      ]
    },
    {
      "cell_type": "markdown",
      "metadata": {
        "pycharm": {}
      },
      "source": [
        "# Get clks"
      ]
    },
    {
      "cell_type": "code",
      "execution_count": 7,
      "metadata": {
        "pycharm": {}
      },
      "outputs": [
        {
          "name": "stdout",
          "output_type": "stream",
          "text": [
            "Status code: 200\n",
            "Data: {\u0027clks\u0027: [{\u0027index\u0027: 0, \u0027status\u0027: \u0027queued\u0027, \u0027errMsg\u0027: None, \u0027hash\u0027: None}, {\u0027index\u0027: 1, \u0027status\u0027: \u0027queued\u0027, \u0027errMsg\u0027: None, \u0027hash\u0027: None}], \u0027responseMetadata\u0027: {\u0027nextCursor\u0027: None}}\n"
          ]
        }
      ],
      "source": [
        "r \u003d requests.get(\n",
        "    PREFIX + \u0027/projects/{project_id}/clks/\u0027.format(\n",
        "        project_id\u003d\u0027demo-data\u0027,\n",
        "        index_range_start\u003dclk_range_start,\n",
        "        index_range_end\u003dclk_range_end))\n",
        "\n",
        "print(\u0027Status code:\u0027, r.status_code)\n",
        "print(\u0027Data:\u0027, r.json())"
      ]
    },
    {
      "cell_type": "markdown",
      "metadata": {
        "pycharm": {}
      },
      "source": [
        "# Upload lots of private data!"
      ]
    },
    {
      "cell_type": "code",
      "execution_count": 8,
      "metadata": {
        "pycharm": {}
      },
      "outputs": [
        {
          "name": "stdout",
          "output_type": "stream",
          "text": [
            "{\n",
            "  \"dataIds\": {\n",
            "    \"rangeEnd\": 100002,\n",
            "    \"rangeStart\": 2\n",
            "  }\n",
            "}\n",
            "\n",
            "Status code: 202\n",
            "Data: {\u0027dataIds\u0027: {\u0027rangeEnd\u0027: 100002, \u0027rangeStart\u0027: 2}}\n"
          ]
        }
      ],
      "source": [
        "with open(\u0027fake-data.csv\u0027) as f:\n",
        "    csv_data \u003d f.read()\n",
        "\n",
        "r \u003d requests.post(\n",
        "    PREFIX + \u0027/projects/{project_id}/pii/\u0027.format(\n",
        "        project_id\u003d\u0027demo-data\u0027),\n",
        "    params\u003ddict(\n",
        "        header\u003d\u0027true\u0027),\n",
        "    data\u003dcsv_data)\n",
        "print(r.text)\n",
        "\n",
        "json \u003d r.json()\n",
        "clk_range_start \u003d json[\u0027dataIds\u0027][\u0027rangeStart\u0027]\n",
        "clk_range_end \u003d json[\u0027dataIds\u0027][\u0027rangeEnd\u0027]\n",
        "\n",
        "print(\u0027Status code:\u0027, r.status_code)\n",
        "print(\u0027Data:\u0027, r.json())"
      ]
    },
    {
      "cell_type": "markdown",
      "metadata": {
        "pycharm": {}
      },
      "source": [
        "# Check job status"
      ]
    },
    {
      "cell_type": "code",
      "execution_count": 9,
      "metadata": {
        "pycharm": {}
      },
      "outputs": [
        {
          "name": "stdout",
          "output_type": "stream",
          "text": [
            "Status code: 200\n",
            "Data: {\u0027clksStatus\u0027: [{\u0027status\u0027: \u0027done\u0027, \u0027rangeStart\u0027: 0, \u0027rangeEnd\u0027: 2}, {\u0027status\u0027: \u0027queued\u0027, \u0027rangeStart\u0027: 2, \u0027rangeEnd\u0027: 100002}]}\n"
          ]
        }
      ],
      "source": [
        "r \u003d requests.get(\n",
        "    PREFIX + \u0027/projects/{project_id}/clks/status\u0027.format(\n",
        "        project_id\u003d\u0027demo-data\u0027))\n",
        "\n",
        "print(\u0027Status code:\u0027, r.status_code)\n",
        "print(\u0027Data:\u0027, r.json())"
      ]
    },
    {
      "cell_type": "markdown",
      "metadata": {
        "pycharm": {}
      },
      "source": [
        "# Delete clks or abort jobs"
      ]
    },
    {
      "cell_type": "markdown",
      "metadata": {
        "pycharm": {}
      },
      "source": [
        "If a particular clk has already been computed, then we simply delete it from the database. Otherwise, we cancel the scheduled job and delete the private data."
      ]
    },
    {
      "cell_type": "code",
      "execution_count": 10,
      "metadata": {
        "pycharm": {}
      },
      "outputs": [
        {
          "name": "stdout",
          "output_type": "stream",
          "text": [
            "Status code: 204\n"
          ]
        }
      ],
      "source": [
        "r \u003d requests.delete(\n",
        "    PREFIX + \u0027/projects/{project_id}/clks/\u0027.format(\n",
        "        project_id\u003d\u0027demo-data\u0027),\n",
        "    params\u003ddict(\n",
        "        index_range_start\u003dclk_range_start,\n",
        "        index_range_end\u003dclk_range_end))\n",
        "\n",
        "print(\u0027Status code:\u0027, r.status_code)"
      ]
    },
    {
      "cell_type": "markdown",
      "metadata": {
        "pycharm": {}
      },
      "source": [
        "# Delete project"
      ]
    },
    {
      "cell_type": "markdown",
      "metadata": {
        "pycharm": {}
      },
      "source": [
        "This will also delete all clks associated with the project and abort all hashing jobs."
      ]
    },
    {
      "cell_type": "code",
      "execution_count": 11,
      "metadata": {
        "pycharm": {}
      },
      "outputs": [
        {
          "name": "stdout",
          "output_type": "stream",
          "text": [
            "Status code: 204\n"
          ]
        }
      ],
      "source": [
        "r \u003d requests.delete(\n",
        "    PREFIX + \u0027/projects/{project_id}\u0027.format(\n",
        "        project_id\u003d\u0027demo-data\u0027))\n",
        "\n",
        "print(\u0027Status code:\u0027, r.status_code)"
      ]
    },
    {
      "cell_type": "code",
      "execution_count": null,
      "metadata": {
        "pycharm": {}
      },
      "outputs": [],
      "source": []
    }
  ],
  "metadata": {
    "kernelspec": {
      "display_name": "Python 3",
      "language": "python",
      "name": "python3"
    },
    "language_info": {
      "codemirror_mode": {
        "name": "ipython",
        "version": 3
      },
      "file_extension": ".py",
      "mimetype": "text/x-python",
      "name": "python",
      "nbconvert_exporter": "python",
      "pygments_lexer": "ipython3",
      "version": "3.6.5"
    }
  },
  "nbformat": 4,
  "nbformat_minor": 2
}